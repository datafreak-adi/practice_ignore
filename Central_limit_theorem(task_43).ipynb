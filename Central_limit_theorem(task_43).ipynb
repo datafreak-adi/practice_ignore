{
  "nbformat": 4,
  "nbformat_minor": 0,
  "metadata": {
    "colab": {
      "provenance": [],
      "include_colab_link": true
    },
    "kernelspec": {
      "name": "python3",
      "display_name": "Python 3"
    },
    "language_info": {
      "name": "python"
    }
  },
  "cells": [
    {
      "cell_type": "markdown",
      "metadata": {
        "id": "view-in-github",
        "colab_type": "text"
      },
      "source": [
        "<a href=\"https://colab.research.google.com/github/datafreak-adi/practice_ignore/blob/origin/Central_limit_theorem(task_43).ipynb\" target=\"_parent\"><img src=\"https://colab.research.google.com/assets/colab-badge.svg\" alt=\"Open In Colab\"/></a>"
      ]
    },
    {
      "cell_type": "code",
      "execution_count": 4,
      "metadata": {
        "id": "DPv5xek6h83n"
      },
      "outputs": [],
      "source": [
        "import pandas as pd\n",
        "import numpy as np\n",
        "from scipy.stats import binom\n",
        "from scipy.special import comb"
      ]
    },
    {
      "cell_type": "markdown",
      "source": [
        "\n",
        "1. A company claims that their email marketing campaign has a 15% click-through rate. If you randomly select 100 people to receive the email, what is the probability that exactly 20 will click through to the website?\n",
        "2. A researcher is investigating whether a new medication improves patient outcomes. The medication has a success rate of 75%. If the researcher enrolls 50 patients in the study, what is the probability that fewer than 35 will have a positive outcome?\n",
        "\n",
        "3. A website offers a premium subscription service with a 20% sign-up rate. If you randomly select 500 visitors to the website, what is the probability that between 90 and 110 will sign up for the premium service?\n",
        "\n",
        "4. A school district is investigating the effectiveness of a new reading program. The program has a success rate of 70%. If the district enrolls 200 students in the program, what is the probability that more than 140 will show significant improvement in reading skills?\n",
        "\n",
        "\n",
        "5. A factory produces electronic components with a defect rate of 5%. If a shipment of 200 components is sent out, what is the probability that fewer than 10 will be defective?\n",
        "\n",
        "6. A survey shows that 70% of people prefer chocolate ice cream over vanilla ice cream. If you randomly survey one person, what is the probability that they prefer vanilla ice cream?\n",
        "\n",
        "\n",
        "7. A software company releases a new product with a bug rate of 2%. If 10,000 copies of the product are sold, what is the probability that at least 250 will have a bug?\n",
        "\n",
        "8. According to data from the National Center for Health Statistics (NCHS), the average height for adult men aged 20 years and over in the United States is approximately 69.2 inches with a standard deviation of approximately 2.9 inches. If you randomly select a sample of 50 adult men aged 20 years and over, what is the probability that the sample mean height is greater than 70 inches?\n",
        "\n",
        "\n",
        "Central Limit Theorem:\n",
        "9. A company claims that the average salary of its employees is 75,000 with a standard deviation of 10,000. If you randomly select 100 employees, what is the probability that the sample mean salary is less than 72,500?\n",
        "\n",
        "10. A restaurant claims that the average wait time for a table is 15 minutes with a standard deviation of 3 minutes. If you randomly survey 50 customers, what is the probability that the sample mean wait time is greater than 16 minutes?\n",
        "Bernoulli Distribution:\n"
      ],
      "metadata": {
        "id": "iGYPlZi3iATZ"
      }
    },
    {
      "cell_type": "markdown",
      "source": [
        "1] A company claims that their email marketing campaign has a 15% click-through rate. If you randomly select 100 people to receive the email, what is the probability that exactly 20 will click through to the website?\n"
      ],
      "metadata": {
        "id": "QQY8QJdxKmbY"
      }
    },
    {
      "cell_type": "code",
      "source": [
        "n=100\n",
        "x=20\n",
        "p_success=0.15\n",
        "\n",
        "prob= binom.pmf(20,100,0.15)\n",
        "print(prob)\n",
        "\n",
        "# Formula= nCr (p**x) (1-p)**(n-x)\n",
        "\n",
        "prob_formula= comb(n,x)*(p_sucess**x)*((1-p_sucess)**(n-x))\n",
        "print(prob_formula)"
      ],
      "metadata": {
        "id": "tbnac64wK1lB",
        "outputId": "0da53db9-a689-43c1-d236-adcf019e22cf",
        "colab": {
          "base_uri": "https://localhost:8080/"
        }
      },
      "execution_count": 14,
      "outputs": [
        {
          "output_type": "stream",
          "name": "stdout",
          "text": [
            "0.04022449066141772\n",
            "0.04022449066141755\n"
          ]
        }
      ]
    },
    {
      "cell_type": "markdown",
      "source": [
        "2] A researcher is investigating whether a new medication improves patient outcomes.The medication has a success rate of 75%. If the researcher enrolls 50 patients in the study, what is the probability that fewer than 35 will have a positive outcome?\n"
      ],
      "metadata": {
        "id": "geRKUuuzKXc1"
      }
    },
    {
      "cell_type": "code",
      "source": [
        "n=50\n",
        "p_success=0.75\n",
        "x=35\n",
        "\n",
        "## Formula= nCx (p**x) (1-p)**(n-x) but x is variable; so {Formula= Σ(0<=x<=35)  (p**x) (1-p)**(n-x)}\n",
        "\n",
        "\n",
        "def range_prob(n,x,p_success):\n",
        "\n",
        " prob=0\n",
        " prob_formula=0\n",
        " for i in range(x+1):\n",
        "    prob_formula+= comb(n,i,exact=True)*(p_success**i)*((1-p_success)**(n-i))\n",
        "    prob+= binom.pmf(i,n,p_success)\n",
        "\n",
        " print(prob)\n",
        " print(prob_formula)\n",
        "\n",
        "\n",
        "range_prob(n,x,p_success)"
      ],
      "metadata": {
        "id": "CJhBQ6MJH8aM",
        "outputId": "c92b0f9a-412a-41b4-ac80-27ec876cece0",
        "colab": {
          "base_uri": "https://localhost:8080/"
        }
      },
      "execution_count": 26,
      "outputs": [
        {
          "output_type": "stream",
          "name": "stdout",
          "text": [
            "0.25191885547723963\n",
            "0.2519188554772398\n"
          ]
        }
      ]
    },
    {
      "cell_type": "markdown",
      "source": [
        "3] A website offers a premium subscription service with a 20% sign-up rate. If you randomly select 500 visitors to the website, what is the probability that between 90 and 110 will sign up for the premium service?\n",
        "\n"
      ],
      "metadata": {
        "id": "7trqxpZQO5ZG"
      }
    },
    {
      "cell_type": "code",
      "source": [
        "# Formula= Σ(0<=x<=110)  (p**x) (1-p)**(n-x) - Σ(0<=x<=90)  (p**x) (1-p)**(n-x)\n",
        "\n",
        "n=500\n",
        "p_success=0.2\n",
        "x_upper=110\n",
        "x_lower=90\n",
        "\n",
        "def double_ranged_prob(x,n,p_success):\n",
        "\n",
        "\n",
        " prob_formula=0\n",
        " for i in range(x+1):\n",
        "    prob_formula+= comb(n,i,exact=True)*(p_success**i)*((1-p_success)**(n-i))\n",
        "\n",
        " return prob_formula\n",
        "\n",
        "\n",
        "double_ranged_prob(x_upper,n, p_success)-double_ranged_prob(x_lower,n, p_success)"
      ],
      "metadata": {
        "id": "ZckaGSkwH8fk",
        "outputId": "f0aed469-f1ea-4060-d97a-7a58482461aa",
        "colab": {
          "base_uri": "https://localhost:8080/"
        }
      },
      "execution_count": 37,
      "outputs": [
        {
          "output_type": "execute_result",
          "data": {
            "text/plain": [
              "0.7353221123993248"
            ]
          },
          "metadata": {},
          "execution_count": 37
        }
      ]
    },
    {
      "cell_type": "markdown",
      "source": [
        " 4] School district is investigating the effectiveness of a new reading program. The program has a success rate of 70%. If the district enrolls 200 students in the program, what is the probability that more than 140 will show significant improvement in reading skills?"
      ],
      "metadata": {
        "id": "xxb0dABQaWvJ"
      }
    },
    {
      "cell_type": "code",
      "source": [
        "#P(X>140) Formula= 1 - { Σ(0<=x<=140)  (p**x) (1-p)**(n-x) }\n",
        "\n",
        "p_success=0.70\n",
        "x=140\n",
        "n=200\n",
        "\n",
        "1- double_ranged_prob(x,n,p_success)"
      ],
      "metadata": {
        "id": "UWk0gp79H8jE",
        "outputId": "1a5f60b8-03c2-4524-f0da-c38995275801",
        "colab": {
          "base_uri": "https://localhost:8080/"
        }
      },
      "execution_count": 38,
      "outputs": [
        {
          "output_type": "execute_result",
          "data": {
            "text/plain": [
              "0.47334745936592904"
            ]
          },
          "metadata": {},
          "execution_count": 38
        }
      ]
    },
    {
      "cell_type": "markdown",
      "source": [
        "5] A factory produces electronic components with a defect rate of 5%. If a shipment of 200 components is sent out, what is the probability that fewer than 10 will be defective\n"
      ],
      "metadata": {
        "id": "Sf-bm9-Qb6yi"
      }
    },
    {
      "cell_type": "code",
      "source": [
        "defect_rate= 0.05\n",
        "n=200\n",
        "x=10\n",
        "\n",
        "double_ranged_prob(x-1,n,defect_rate)"
      ],
      "metadata": {
        "id": "uiahXgZrH8mk",
        "outputId": "1f107cfa-5c0b-4fa8-8567-09f3e958cc6b",
        "colab": {
          "base_uri": "https://localhost:8080/"
        }
      },
      "execution_count": 39,
      "outputs": [
        {
          "output_type": "execute_result",
          "data": {
            "text/plain": [
              "0.45470980868081545"
            ]
          },
          "metadata": {},
          "execution_count": 39
        }
      ]
    },
    {
      "cell_type": "markdown",
      "source": [
        "6] A software company releases a new product with a bug rate of 2%. If 10,000 copies of the product are sold, what is the probability that at least 250 will have a bug"
      ],
      "metadata": {
        "id": "12mSlyUAcVpw"
      }
    },
    {
      "cell_type": "code",
      "source": [
        "bug_rate=0.02\n",
        "n=10000\n",
        "x=250\n",
        "#P(X>=250)= 1- F(X<250)\n",
        "\n",
        "1-binom.cdf(x-1,n,bug_rate)"
      ],
      "metadata": {
        "id": "vOXXjT-FH8qJ",
        "outputId": "d31bd532-d656-432c-9099-823ba494d4c8",
        "colab": {
          "base_uri": "https://localhost:8080/"
        }
      },
      "execution_count": 36,
      "outputs": [
        {
          "output_type": "execute_result",
          "data": {
            "text/plain": [
              "0.00031671833727753285"
            ]
          },
          "metadata": {},
          "execution_count": 36
        }
      ]
    },
    {
      "cell_type": "markdown",
      "source": [
        "## CENTRAL LIMIT THEOREM\n",
        "\n",
        "1] According to data from the National Center for Health Statistics (NCHS), the average height for adult men aged 20 years and over in the United States is approximately 69.2 inches with a standard deviation of approximately 2.9 inches. If you randomly select a sample of 50 adult men aged 20 years and over, what is the probability that the sample mean height is greater than 70 inches?\n",
        "\n",
        "\n",
        "\n",
        "###NOTE: Quetsion 9 and Question 10 are of same type"
      ],
      "metadata": {
        "id": "tWPpMvUImb0z"
      }
    },
    {
      "cell_type": "code",
      "source": [
        "from scipy.stats import norm\n",
        "pop_mean=69.2\n",
        "pop_std= 2.9\n",
        "sample_size=50\n",
        "sample_mean=70\n",
        "\n",
        "z= (sample_mean-pop_mean)/(pop_std/np.sqrt(sample_size))\n",
        "\n",
        "1- norm.cdf(z)"
      ],
      "metadata": {
        "id": "5b0xMqAtH8xg",
        "outputId": "a167db6a-b51f-4235-a886-f5f44aabb2ce",
        "colab": {
          "base_uri": "https://localhost:8080/"
        }
      },
      "execution_count": 42,
      "outputs": [
        {
          "output_type": "execute_result",
          "data": {
            "text/plain": [
              "0.025549978630102443"
            ]
          },
          "metadata": {},
          "execution_count": 42
        }
      ]
    },
    {
      "cell_type": "code",
      "source": [],
      "metadata": {
        "id": "VFHUyWXgH81O"
      },
      "execution_count": null,
      "outputs": []
    },
    {
      "cell_type": "code",
      "source": [],
      "metadata": {
        "id": "YMRHXDX5H84y"
      },
      "execution_count": null,
      "outputs": []
    },
    {
      "cell_type": "code",
      "source": [],
      "metadata": {
        "id": "sbsyEcffH89D"
      },
      "execution_count": null,
      "outputs": []
    }
  ]
}